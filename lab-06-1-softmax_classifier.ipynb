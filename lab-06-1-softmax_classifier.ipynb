{
 "cells": [
  {
   "cell_type": "markdown",
   "metadata": {},
   "source": [
    "## 1. 초기 설정"
   ]
  },
  {
   "cell_type": "code",
   "execution_count": 1,
   "metadata": {},
   "outputs": [
    {
     "data": {
      "text/plain": [
       "<torch._C.Generator at 0x10df66930>"
      ]
     },
     "execution_count": 1,
     "metadata": {},
     "output_type": "execute_result"
    }
   ],
   "source": [
    "import torch\n",
    "from torch.autograd import Variable\n",
    "\n",
    "torch.manual_seed(777)"
   ]
  },
  {
   "cell_type": "markdown",
   "metadata": {},
   "source": [
    "## 2. training set과 Variable 만들기"
   ]
  },
  {
   "cell_type": "code",
   "execution_count": 2,
   "metadata": {
    "collapsed": true
   },
   "outputs": [],
   "source": [
    "x_data = [[1, 2, 1, 1],\n",
    "          [2, 1, 3, 2],\n",
    "          [3, 1, 3, 4],\n",
    "          [4, 1, 5, 5],\n",
    "          [1, 7, 5, 5],\n",
    "          [1, 2, 5, 6],\n",
    "          [1, 6, 6, 6],\n",
    "          [1, 7, 7, 7]]\n",
    "y_data = [[0, 0, 1],\n",
    "          [0, 0, 1],\n",
    "          [0, 0, 1],\n",
    "          [0, 1, 0],\n",
    "          [0, 1, 0],\n",
    "          [0, 1, 0],\n",
    "          [1, 0, 0],\n",
    "          [1, 0, 0]]\n",
    "\n",
    "X = Variable(torch.Tensor(x_data))\n",
    "Y = Variable(torch.Tensor(y_data))"
   ]
  },
  {
   "cell_type": "markdown",
   "metadata": {},
   "source": [
    "## 3. model 만들기"
   ]
  },
  {
   "cell_type": "code",
   "execution_count": 16,
   "metadata": {
    "collapsed": true
   },
   "outputs": [],
   "source": [
    "linear = torch.nn.Linear(4, 3, bias=True)\n",
    "# version이 0.2 나 0.1.12일 때는 softmax의 parameter인 dim을 정해줘야한다.\n",
    "softmax = torch.nn.Softmax(dim=1)\n",
    "model = torch.nn.Sequential(linear, softmax)"
   ]
  },
  {
   "cell_type": "markdown",
   "metadata": {},
   "source": [
    "## 4. cost function과 optimizer 만들기"
   ]
  },
  {
   "cell_type": "code",
   "execution_count": 17,
   "metadata": {},
   "outputs": [],
   "source": [
    "optimizer = torch.optim.SGD(model.parameters(), lr=0.1)"
   ]
  },
  {
   "cell_type": "markdown",
   "metadata": {},
   "source": [
    "## 5. model 훈련시키기"
   ]
  },
  {
   "cell_type": "code",
   "execution_count": 18,
   "metadata": {},
   "outputs": [
    {
     "name": "stdout",
     "output_type": "stream",
     "text": [
      "0 [ 3.19675446]\n",
      "200 [ 0.57802826]\n",
      "400 [ 0.47663793]\n",
      "600 [ 0.39992741]\n",
      "800 [ 0.32918203]\n",
      "1000 [ 0.25765058]\n",
      "1200 [ 0.224236]\n",
      "1400 [ 0.20415857]\n",
      "1600 [ 0.18725973]\n",
      "1800 [ 0.17284812]\n",
      "2000 [ 0.16042131]\n"
     ]
    }
   ],
   "source": [
    "for step in range(2001):\n",
    "    optimizer.zero_grad()\n",
    "    \n",
    "    Y_hat = model(X)\n",
    "    cost = -Y * torch.log(Y_hat)\n",
    "    cost = torch.sum(cost, 1).mean()\n",
    "    cost.backward()\n",
    "    optimizer.step()\n",
    "    \n",
    "    if step % 200 == 0:\n",
    "        print(step, cost.data.numpy())"
   ]
  },
  {
   "cell_type": "markdown",
   "metadata": {},
   "source": [
    "## 6. model 확인하기"
   ]
  },
  {
   "cell_type": "code",
   "execution_count": 19,
   "metadata": {},
   "outputs": [
    {
     "name": "stdout",
     "output_type": "stream",
     "text": [
      "--------------\n",
      "[[  9.26583074e-03   9.90723550e-01   1.06111002e-05]] [1]\n",
      "--------------\n",
      "[[ 0.814556    0.16575672  0.01968732]] [0]\n",
      "--------------\n",
      "[[  1.80192963e-08   3.86326079e-04   9.99613643e-01]] [2]\n",
      "--------------\n",
      "[[  9.26583074e-03   9.90723550e-01   1.06111002e-05]\n",
      " [  8.14555824e-01   1.65756837e-01   1.96873490e-02]\n",
      " [  1.80192963e-08   3.86326079e-04   9.99613643e-01]] [1 0 2]\n"
     ]
    }
   ],
   "source": [
    "print('--------------')\n",
    "a = model(Variable(torch.Tensor([[1, 11, 7, 9]])))\n",
    "print(a.data.numpy(), torch.max(a, 1)[1].data.numpy())\n",
    "\n",
    "print('--------------')\n",
    "b = model(Variable(torch.Tensor([[1, 3, 4, 3]])))\n",
    "print(b.data.numpy(), torch.max(b, 1)[1].data.numpy())\n",
    "\n",
    "print('--------------')\n",
    "c = model(Variable(torch.Tensor([[1, 1, 0, 1]])))\n",
    "print(c.data.numpy(), torch.max(c, 1)[1].data.numpy())\n",
    "\n",
    "print('--------------')\n",
    "all = model(Variable(torch.Tensor([[1, 11, 7, 9], [1, 3, 4, 3], [1, 1, 0, 1]])))\n",
    "print(all.data.numpy(), torch.max(all, 1)[1].data.numpy())"
   ]
  },
  {
   "cell_type": "code",
   "execution_count": null,
   "metadata": {
    "collapsed": true
   },
   "outputs": [],
   "source": [
    "# torch.nn.CrossEntropyLoss 메서드는 LogSoftmax 메서드와 NLLLoss 메서드를 합친 메서드라고 한다.\n",
    "# LogSoftmax 메서드는 흔히 아는 Softmax 함수에 log를 씌운 함수와 같다.\n",
    "# NLLLoss 메서드는 Negative log likelihood loss 함수이다.\n",
    "cost_func = torch.nn.CrossEntropyLoss()"
   ]
  }
 ],
 "metadata": {
  "kernelspec": {
   "display_name": "Python 3",
   "language": "python",
   "name": "python3"
  },
  "language_info": {
   "codemirror_mode": {
    "name": "ipython",
    "version": 3
   },
   "file_extension": ".py",
   "mimetype": "text/x-python",
   "name": "python",
   "nbconvert_exporter": "python",
   "pygments_lexer": "ipython3",
   "version": "3.6.1"
  }
 },
 "nbformat": 4,
 "nbformat_minor": 2
}

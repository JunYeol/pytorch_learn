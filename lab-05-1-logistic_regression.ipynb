{
 "cells": [
  {
   "cell_type": "markdown",
   "metadata": {},
   "source": [
    "## 1. 초기 설정"
   ]
  },
  {
   "cell_type": "code",
   "execution_count": 2,
   "metadata": {},
   "outputs": [
    {
     "data": {
      "text/plain": [
       "<torch._C.Generator at 0x107b7f8f0>"
      ]
     },
     "execution_count": 2,
     "metadata": {},
     "output_type": "execute_result"
    }
   ],
   "source": [
    "import torch\n",
    "from torch.autograd import Variable\n",
    "import numpy as np\n",
    "\n",
    "torch.manual_seed(777)"
   ]
  },
  {
   "cell_type": "markdown",
   "metadata": {},
   "source": [
    "## 2. training set과 Variable 만들기"
   ]
  },
  {
   "cell_type": "code",
   "execution_count": 9,
   "metadata": {
    "collapsed": true
   },
   "outputs": [],
   "source": [
    "x_data = np.array([[1, 2],\n",
    "                   [2, 3],\n",
    "                   [3, 1],\n",
    "                   [4, 3],\n",
    "                   [5, 3],\n",
    "                   [6, 2]], dtype=np.float32)\n",
    "y_data = np.array([[0],\n",
    "                   [0],\n",
    "                   [0],\n",
    "                   [1],\n",
    "                   [1],\n",
    "                   [1]], dtype=np.float32)\n",
    "\n",
    "X = Variable(torch.from_numpy(x_data))\n",
    "Y = Variable(torch.from_numpy(y_data))"
   ]
  },
  {
   "cell_type": "markdown",
   "metadata": {},
   "source": [
    "## 3. model 만들기"
   ]
  },
  {
   "cell_type": "code",
   "execution_count": 10,
   "metadata": {
    "collapsed": true
   },
   "outputs": [],
   "source": [
    "hypothesis = torch.nn.Linear(2, 1, bias=True)\n",
    "sigmoid = torch.nn.Sigmoid()\n",
    "\n",
    "# torch.nn.Sequential은 위에 선언한 두 node를 합쳐준다. parameter 순서가 중요하다.\n",
    "model = torch.nn.Sequential(hypothesis, sigmoid)"
   ]
  },
  {
   "cell_type": "markdown",
   "metadata": {},
   "source": [
    "## 4. cost function과 optimizer 만들기"
   ]
  },
  {
   "cell_type": "code",
   "execution_count": 17,
   "metadata": {
    "collapsed": true
   },
   "outputs": [],
   "source": [
    "# logistic regression을 훈련시키기 위해서는 gradient descent algorithm을 사용한다.\n",
    "optimizer = torch.optim.SGD(model.parameters(), lr=0.01)"
   ]
  },
  {
   "cell_type": "markdown",
   "metadata": {},
   "source": [
    "## 5. model 훈련시키기"
   ]
  },
  {
   "cell_type": "code",
   "execution_count": 19,
   "metadata": {
    "scrolled": false
   },
   "outputs": [
    {
     "name": "stdout",
     "output_type": "stream",
     "text": [
      "0 [ 0.15161428]\n",
      "200 [ 0.14933652]\n",
      "400 [ 0.14712647]\n",
      "600 [ 0.14498121]\n",
      "800 [ 0.14289799]\n",
      "1000 [ 0.14087436]\n",
      "1200 [ 0.13890769]\n",
      "1400 [ 0.13699572]\n",
      "1600 [ 0.13513622]\n",
      "1800 [ 0.13332713]\n",
      "2000 [ 0.13156645]\n",
      "2200 [ 0.12985234]\n",
      "2400 [ 0.12818281]\n",
      "2600 [ 0.12655646]\n",
      "2800 [ 0.12497142]\n",
      "3000 [ 0.12342627]\n",
      "3200 [ 0.12191948]\n",
      "3400 [ 0.12044972]\n",
      "3600 [ 0.11901561]\n",
      "3800 [ 0.11761583]\n",
      "4000 [ 0.11624929]\n",
      "4200 [ 0.11491473]\n",
      "4400 [ 0.11361104]\n",
      "4600 [ 0.1123373]\n",
      "4800 [ 0.11109231]\n",
      "5000 [ 0.1098752]\n",
      "5200 [ 0.10868512]\n",
      "5400 [ 0.10752102]\n",
      "5600 [ 0.10638225]\n",
      "5800 [ 0.10526781]\n",
      "6000 [ 0.10417704]\n",
      "6200 [ 0.10310917]\n",
      "6400 [ 0.10206345]\n",
      "6600 [ 0.10103922]\n",
      "6800 [ 0.10003587]\n",
      "7000 [ 0.09905271]\n",
      "7200 [ 0.09808911]\n",
      "7400 [ 0.09714466]\n",
      "7600 [ 0.09621859]\n",
      "7800 [ 0.09531043]\n",
      "8000 [ 0.09441967]\n",
      "8200 [ 0.09354585]\n",
      "8400 [ 0.09268847]\n",
      "8600 [ 0.09184704]\n",
      "8800 [ 0.09102113]\n",
      "9000 [ 0.0902104]\n",
      "9200 [ 0.0894143]\n",
      "9400 [ 0.08863241]\n",
      "9600 [ 0.08786456]\n",
      "9800 [ 0.08711011]\n",
      "10000 [ 0.08636896]\n"
     ]
    }
   ],
   "source": [
    "for step in range(10001):\n",
    "    # optimizer를 초기화한다.\n",
    "    optimizer.zero_grad()\n",
    "    \n",
    "    Y_hat = model(X)\n",
    "    # Variable은 계산해도 Variable이다. 그래서 cost도 Variable.\n",
    "    cost = -(Y * torch.log(Y_hat) +\n",
    "             (1 - Y) * torch.log(1 - Y_hat)).mean()\n",
    "    cost.backward()\n",
    "    optimizer.step()\n",
    "    \n",
    "    if step % 200 == 0:\n",
    "        print(step, cost.data.numpy())"
   ]
  },
  {
   "cell_type": "markdown",
   "metadata": {},
   "source": [
    "## 6. model 확인하기"
   ]
  },
  {
   "cell_type": "code",
   "execution_count": 16,
   "metadata": {},
   "outputs": [
    {
     "name": "stdout",
     "output_type": "stream",
     "text": [
      "\n",
      "Correct (Y): [[ 0.]\n",
      " [ 0.]\n",
      " [ 0.]\n",
      " [ 1.]\n",
      " [ 1.]\n",
      " [ 1.]] \n",
      "Accuracy: 1.0\n"
     ]
    }
   ],
   "source": [
    "predicted = (model(X).data > 0.5).float()\n",
    "accuracy = (predicted == Y.data).float().mean()\n",
    "print(\"\\nCorrect (Y):\", predicted.numpy(), \"\\nAccuracy:\", accuracy)"
   ]
  },
  {
   "cell_type": "code",
   "execution_count": 20,
   "metadata": {
    "collapsed": true
   },
   "outputs": [],
   "source": [
    "# Variable의 required_grad는 기본값이 False인데,\n",
    "# 이 의미는 이 Variable은 Backpropagation시에 변화량을 안 받겠다는 것이다"
   ]
  }
 ],
 "metadata": {
  "kernelspec": {
   "display_name": "Python 3",
   "language": "python",
   "name": "python3"
  },
  "language_info": {
   "codemirror_mode": {
    "name": "ipython",
    "version": 3
   },
   "file_extension": ".py",
   "mimetype": "text/x-python",
   "name": "python",
   "nbconvert_exporter": "python",
   "pygments_lexer": "ipython3",
   "version": "3.6.1"
  }
 },
 "nbformat": 4,
 "nbformat_minor": 2
}

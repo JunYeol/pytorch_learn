{
 "cells": [
  {
   "cell_type": "markdown",
   "metadata": {},
   "source": [
    "## 1. 초기 설정"
   ]
  },
  {
   "cell_type": "code",
   "execution_count": 1,
   "metadata": {},
   "outputs": [
    {
     "data": {
      "text/plain": [
       "<torch._C.Generator at 0x1062d6b50>"
      ]
     },
     "execution_count": 1,
     "metadata": {},
     "output_type": "execute_result"
    }
   ],
   "source": [
    "import torch\n",
    "from torch.autograd import Variable\n",
    "import numpy as np\n",
    "\n",
    "torch.manual_seed(777)"
   ]
  },
  {
   "cell_type": "markdown",
   "metadata": {},
   "source": [
    "## 2. training set과 Variable 만들기"
   ]
  },
  {
   "cell_type": "code",
   "execution_count": 39,
   "metadata": {},
   "outputs": [
    {
     "name": "stdout",
     "output_type": "stream",
     "text": [
      "(101, 16) (101, 1)\n",
      "one_hot \n",
      "    1     0     0     0     0     0     0\n",
      "    1     0     0     0     0     0     0\n",
      "    0     0     0     1     0     0     0\n",
      "    1     0     0     0     0     0     0\n",
      "    1     0     0     0     0     0     0\n",
      "    1     0     0     0     0     0     0\n",
      "    1     0     0     0     0     0     0\n",
      "    0     0     0     1     0     0     0\n",
      "    0     0     0     1     0     0     0\n",
      "    1     0     0     0     0     0     0\n",
      "    1     0     0     0     0     0     0\n",
      "    0     1     0     0     0     0     0\n",
      "    0     0     0     1     0     0     0\n",
      "    0     0     0     0     0     0     1\n",
      "    0     0     0     0     0     0     1\n",
      "    0     0     0     0     0     0     1\n",
      "    0     1     0     0     0     0     0\n",
      "    1     0     0     0     0     0     0\n",
      "    0     0     0     1     0     0     0\n",
      "    1     0     0     0     0     0     0\n",
      "    0     1     0     0     0     0     0\n",
      "    0     1     0     0     0     0     0\n",
      "    1     0     0     0     0     0     0\n",
      "    0     1     0     0     0     0     0\n",
      "    0     0     0     0     0     1     0\n",
      "    0     0     0     0     1     0     0\n",
      "    0     0     0     0     1     0     0\n",
      "    1     0     0     0     0     0     0\n",
      "    1     0     0     0     0     0     0\n",
      "    1     0     0     0     0     0     0\n",
      "    0     0     0     0     0     1     0\n",
      "    1     0     0     0     0     0     0\n",
      "    1     0     0     0     0     0     0\n",
      "    0     1     0     0     0     0     0\n",
      "    0     0     0     1     0     0     0\n",
      "    1     0     0     0     0     0     0\n",
      "    1     0     0     0     0     0     0\n",
      "    0     1     0     0     0     0     0\n",
      "    0     0     0     1     0     0     0\n",
      "    0     0     0     0     0     1     0\n",
      "    0     0     0     0     0     1     0\n",
      "    0     1     0     0     0     0     0\n",
      "    0     0     0     0     0     1     0\n",
      "    0     1     0     0     0     0     0\n",
      "    1     0     0     0     0     0     0\n",
      "    1     0     0     0     0     0     0\n",
      "    0     0     0     0     0     0     1\n",
      "    1     0     0     0     0     0     0\n",
      "    1     0     0     0     0     0     0\n",
      "    1     0     0     0     0     0     0\n",
      "    1     0     0     0     0     0     0\n",
      "    0     0     0     0     0     1     0\n",
      "    0     0     0     0     1     0     0\n",
      "    0     0     0     0     0     0     1\n",
      "    1     0     0     0     0     0     0\n",
      "    1     0     0     0     0     0     0\n",
      "    0     1     0     0     0     0     0\n",
      "    0     1     0     0     0     0     0\n",
      "    0     1     0     0     0     0     0\n",
      "    0     1     0     0     0     0     0\n",
      "    0     0     0     1     0     0     0\n",
      "    0     0     0     1     0     0     0\n",
      "    0     0     1     0     0     0     0\n",
      "    1     0     0     0     0     0     0\n",
      "    1     0     0     0     0     0     0\n",
      "    1     0     0     0     0     0     0\n",
      "    1     0     0     0     0     0     0\n",
      "    1     0     0     0     0     0     0\n",
      "    1     0     0     0     0     0     0\n",
      "    1     0     0     0     0     0     0\n",
      "    1     0     0     0     0     0     0\n",
      "    0     1     0     0     0     0     0\n",
      "    0     0     0     0     0     0     1\n",
      "    0     0     0     1     0     0     0\n",
      "    1     0     0     0     0     0     0\n",
      "    1     0     0     0     0     0     0\n",
      "    0     0     1     0     0     0     0\n",
      "    0     0     0     0     0     0     1\n",
      "    0     1     0     0     0     0     0\n",
      "    0     1     0     0     0     0     0\n",
      "    0     0     1     0     0     0     0\n",
      "    0     0     0     0     0     0     1\n",
      "    0     0     0     1     0     0     0\n",
      "    0     1     0     0     0     0     0\n",
      "    1     0     0     0     0     0     0\n",
      "    0     0     0     0     0     0     1\n",
      "    0     0     0     1     0     0     0\n",
      "    0     1     0     0     0     0     0\n",
      "    0     0     0     0     0     1     0\n",
      "    0     0     0     0     1     0     0\n",
      "    0     0     1     0     0     0     0\n",
      "    0     0     1     0     0     0     0\n",
      "    0     0     0     1     0     0     0\n",
      "    1     0     0     0     0     0     0\n",
      "    1     0     0     0     0     0     0\n",
      "    0     1     0     0     0     0     0\n",
      "    1     0     0     0     0     0     0\n",
      "    0     0     0     0     0     1     0\n",
      "    1     0     0     0     0     0     0\n",
      "    0     0     0     0     0     0     1\n",
      "    0     1     0     0     0     0     0\n",
      "[torch.FloatTensor of size 101x7]\n",
      "\n"
     ]
    }
   ],
   "source": [
    "xy = np.loadtxt('data-04-zoo.csv', delimiter=',', dtype=np.float32)\n",
    "x_data = xy[:, 0:-1]\n",
    "y_data = xy[:, [-1]]\n",
    "\n",
    "print(x_data.shape, y_data.shape)\n",
    "\n",
    "nb_classes = 7\n",
    "\n",
    "X = Variable(torch.from_numpy(x_data))\n",
    "Y = Variable(torch.from_numpy(y_data))\n",
    "\n",
    "# one-hot encoding을 사용한다.\n",
    "# (101, 7) 크기의 0으로 채워진 행렬을 선언해서 Y_one_hot에 할당한다.\n",
    "Y_one_hot = torch.zeros(Y.size()[0], nb_classes)\n",
    "# scatter_(dim, index, src)라는 Tensor의 메서드는 index와 dim을 이용해서 src값을 행렬에 넣게 된다.\n",
    "# dim은 행렬을 인덱스를 이용해서 참조할 때, 몇 번째 대괄호인지 나타내는 값이다. \n",
    "# 0이면 첫 번째 대괄호, 1이면 두 번째 대괄호, ...\n",
    "# 어떻게 이들을 이용해서 위치를 결정하는지는 아래의 이미지를 보자\n",
    "Y_one_hot.scatter_(1, Y.long().data, 1)\n",
    "Y_one_hot = Variable(Y_one_hot)\n",
    "print(\"one_hot\", Y_one_hot.data)"
   ]
  },
  {
   "attachments": {
    "%E1%84%89%E1%85%B3%E1%84%8F%E1%85%B3%E1%84%85%E1%85%B5%E1%86%AB%E1%84%89%E1%85%A3%E1%86%BA%202018-01-27%20%E1%84%8B%E1%85%A9%E1%84%92%E1%85%AE%207.32.42.png": {
     "image/png": "[encoded data removed]"
    }
   },
   "cell_type": "markdown",
   "metadata": {},
   "source": [
    "![%E1%84%89%E1%85%B3%E1%84%8F%E1%85%B3%E1%84%85%E1%85%B5%E1%86%AB%E1%84%89%E1%85%A3%E1%86%BA%202018-01-27%20%E1%84%8B%E1%85%A9%E1%84%92%E1%85%AE%207.32.42.png](attachment:%E1%84%89%E1%85%B3%E1%84%8F%E1%85%B3%E1%84%85%E1%85%B5%E1%86%AB%E1%84%89%E1%85%A3%E1%86%BA%202018-01-27%20%E1%84%8B%E1%85%A9%E1%84%92%E1%85%AE%207.32.42.png)"
   ]
  },
  {
   "cell_type": "markdown",
   "metadata": {},
   "source": [
    "## 3. model 만들기"
   ]
  },
  {
   "cell_type": "code",
   "execution_count": 40,
   "metadata": {},
   "outputs": [],
   "source": [
    "softmax = torch.nn.Softmax(dim=1)\n",
    "# 이후 밑에서 사용할 torch.nn.CorssEntropyLoss메서드는 안에 softmax를 가지고 있다.\n",
    "# 따라서 그냥 linear와 softmax를 합치지 않고 나중에 확인할 때 model에 softmax를 써서 확인할 것이다.\n",
    "model = torch.nn.Linear(16, nb_classes, bias=True)"
   ]
  },
  {
   "cell_type": "markdown",
   "metadata": {},
   "source": [
    "## 4. cost function과 optimizer 만들기"
   ]
  },
  {
   "cell_type": "code",
   "execution_count": 41,
   "metadata": {
    "collapsed": true
   },
   "outputs": [],
   "source": [
    "# torch.nn.CrossEntropyLoss메서드는 2차원 Tensor를 input(X)으로, 1차원 Tensor를 target(Y)으로 받는다.\n",
    "cost_func = torch.nn.CrossEntropyLoss()\n",
    "optimizer = torch.optim.SGD(model.parameters(), lr=0.1)"
   ]
  },
  {
   "cell_type": "markdown",
   "metadata": {},
   "source": [
    "## 5. model 훈련시키기"
   ]
  },
  {
   "cell_type": "code",
   "execution_count": 43,
   "metadata": {},
   "outputs": [
    {
     "name": "stdout",
     "output_type": "stream",
     "text": [
      "0 [ 0.00617874]\n",
      "100 [ 0.00614897]\n",
      "200 [ 0.0061195]\n",
      "300 [ 0.0060903]\n",
      "400 [ 0.0060614]\n",
      "500 [ 0.00603275]\n",
      "600 [ 0.00600439]\n",
      "700 [ 0.00597629]\n",
      "800 [ 0.00594847]\n",
      "900 [ 0.0059209]\n",
      "1000 [ 0.00589357]\n",
      "1100 [ 0.00586653]\n",
      "1200 [ 0.0058397]\n",
      "1300 [ 0.00581314]\n",
      "1400 [ 0.00578682]\n",
      "1500 [ 0.00576074]\n",
      "1600 [ 0.00573489]\n",
      "1700 [ 0.00570928]\n",
      "1800 [ 0.0056839]\n",
      "1900 [ 0.00565874]\n",
      "2000 [ 0.00563381]\n"
     ]
    }
   ],
   "source": [
    "for step in range(2001):\n",
    "    optimizer.zero_grad()\n",
    "    \n",
    "    Y_hat = model(X)\n",
    "    # view메서드는 resize와 같다. 같은 데이터를 가지고 다른 size의 새 Tensor를 만든다.\n",
    "    # view메서드에 -1을 인자로 넣으면 다른 부분을 가지고 추론한다는 의미\n",
    "    # x가 (4, 4)행렬인데, x.view(-1, 8)은 (2, 8)행렬이 된다. 8을 가지고 추론을 했다는 의미.\n",
    "    # Y.long()는 2차원 Tensor이고, Y.long().view(-1)은 1차원 Tensor이다.\n",
    "    cost = cost_func(Y_hat, Y.long().view(-1))\n",
    "    cost.backward()\n",
    "    optimizer.step()\n",
    "    \n",
    "    if step % 100 == 0:\n",
    "        print(step, cost.data.numpy())"
   ]
  },
  {
   "cell_type": "markdown",
   "metadata": {},
   "source": [
    "## 6. model 확인하기"
   ]
  },
  {
   "cell_type": "code",
   "execution_count": 49,
   "metadata": {
    "scrolled": false
   },
   "outputs": [
    {
     "name": "stdout",
     "output_type": "stream",
     "text": [
      "[True] Prediction: 0 True Y: 0\n",
      "[True] Prediction: 0 True Y: 0\n",
      "[True] Prediction: 3 True Y: 3\n",
      "[True] Prediction: 0 True Y: 0\n",
      "[True] Prediction: 0 True Y: 0\n",
      "[True] Prediction: 0 True Y: 0\n",
      "[True] Prediction: 0 True Y: 0\n",
      "[True] Prediction: 3 True Y: 3\n",
      "[True] Prediction: 3 True Y: 3\n",
      "[True] Prediction: 0 True Y: 0\n",
      "[True] Prediction: 0 True Y: 0\n",
      "[True] Prediction: 1 True Y: 1\n",
      "[True] Prediction: 3 True Y: 3\n",
      "[True] Prediction: 6 True Y: 6\n",
      "[True] Prediction: 6 True Y: 6\n",
      "[True] Prediction: 6 True Y: 6\n",
      "[True] Prediction: 1 True Y: 1\n",
      "[True] Prediction: 0 True Y: 0\n",
      "[True] Prediction: 3 True Y: 3\n",
      "[True] Prediction: 0 True Y: 0\n",
      "[True] Prediction: 1 True Y: 1\n",
      "[True] Prediction: 1 True Y: 1\n",
      "[True] Prediction: 0 True Y: 0\n",
      "[True] Prediction: 1 True Y: 1\n",
      "[True] Prediction: 5 True Y: 5\n",
      "[True] Prediction: 4 True Y: 4\n",
      "[True] Prediction: 4 True Y: 4\n",
      "[True] Prediction: 0 True Y: 0\n",
      "[True] Prediction: 0 True Y: 0\n",
      "[True] Prediction: 0 True Y: 0\n",
      "[True] Prediction: 5 True Y: 5\n",
      "[True] Prediction: 0 True Y: 0\n",
      "[True] Prediction: 0 True Y: 0\n",
      "[True] Prediction: 1 True Y: 1\n",
      "[True] Prediction: 3 True Y: 3\n",
      "[True] Prediction: 0 True Y: 0\n",
      "[True] Prediction: 0 True Y: 0\n",
      "[True] Prediction: 1 True Y: 1\n",
      "[True] Prediction: 3 True Y: 3\n",
      "[True] Prediction: 5 True Y: 5\n",
      "[True] Prediction: 5 True Y: 5\n",
      "[True] Prediction: 1 True Y: 1\n",
      "[True] Prediction: 5 True Y: 5\n",
      "[True] Prediction: 1 True Y: 1\n",
      "[True] Prediction: 0 True Y: 0\n",
      "[True] Prediction: 0 True Y: 0\n",
      "[True] Prediction: 6 True Y: 6\n",
      "[True] Prediction: 0 True Y: 0\n",
      "[True] Prediction: 0 True Y: 0\n",
      "[True] Prediction: 0 True Y: 0\n",
      "[True] Prediction: 0 True Y: 0\n",
      "[True] Prediction: 5 True Y: 5\n",
      "[True] Prediction: 4 True Y: 4\n",
      "[True] Prediction: 6 True Y: 6\n",
      "[True] Prediction: 0 True Y: 0\n",
      "[True] Prediction: 0 True Y: 0\n",
      "[True] Prediction: 1 True Y: 1\n",
      "[True] Prediction: 1 True Y: 1\n",
      "[True] Prediction: 1 True Y: 1\n",
      "[True] Prediction: 1 True Y: 1\n",
      "[True] Prediction: 3 True Y: 3\n",
      "[True] Prediction: 3 True Y: 3\n",
      "[True] Prediction: 2 True Y: 2\n",
      "[True] Prediction: 0 True Y: 0\n",
      "[True] Prediction: 0 True Y: 0\n",
      "[True] Prediction: 0 True Y: 0\n",
      "[True] Prediction: 0 True Y: 0\n",
      "[True] Prediction: 0 True Y: 0\n",
      "[True] Prediction: 0 True Y: 0\n",
      "[True] Prediction: 0 True Y: 0\n",
      "[True] Prediction: 0 True Y: 0\n",
      "[True] Prediction: 1 True Y: 1\n",
      "[True] Prediction: 6 True Y: 6\n",
      "[True] Prediction: 3 True Y: 3\n",
      "[True] Prediction: 0 True Y: 0\n",
      "[True] Prediction: 0 True Y: 0\n",
      "[True] Prediction: 2 True Y: 2\n",
      "[True] Prediction: 6 True Y: 6\n",
      "[True] Prediction: 1 True Y: 1\n",
      "[True] Prediction: 1 True Y: 1\n",
      "[True] Prediction: 2 True Y: 2\n",
      "[True] Prediction: 6 True Y: 6\n",
      "[True] Prediction: 3 True Y: 3\n",
      "[True] Prediction: 1 True Y: 1\n",
      "[True] Prediction: 0 True Y: 0\n",
      "[True] Prediction: 6 True Y: 6\n",
      "[True] Prediction: 3 True Y: 3\n",
      "[True] Prediction: 1 True Y: 1\n",
      "[True] Prediction: 5 True Y: 5\n",
      "[True] Prediction: 4 True Y: 4\n",
      "[True] Prediction: 2 True Y: 2\n",
      "[True] Prediction: 2 True Y: 2\n",
      "[True] Prediction: 3 True Y: 3\n",
      "[True] Prediction: 0 True Y: 0\n",
      "[True] Prediction: 0 True Y: 0\n",
      "[True] Prediction: 1 True Y: 1\n",
      "[True] Prediction: 0 True Y: 0\n",
      "[True] Prediction: 5 True Y: 5\n",
      "[True] Prediction: 0 True Y: 0\n",
      "[True] Prediction: 6 True Y: 6\n",
      "[True] Prediction: 1 True Y: 1\n"
     ]
    }
   ],
   "source": [
    "# torch.max(input, dim, keepdim=False, out=None)메서드는 (Tensor, LongTensor)를 출력한다.\n",
    "# 이 때 LongTensor는 Tensor안의 각 수에 대한 dim기준 인덱스를 나타낸다.\n",
    "predicted = torch.max(softmax(model(X)), 1)[1].float()\n",
    "\n",
    "# Tensor도 zip이 된다.\n",
    "for p, y in zip(predicted, Y):\n",
    "    print(\"[{}] Prediction: {} True Y: {}\".format(bool(p.data[0] == y.data[0]), p.data.int()[0], y.data.int()[0]))"
   ]
  }
 ],
 "metadata": {
  "kernelspec": {
   "display_name": "Python 3",
   "language": "python",
   "name": "python3"
  },
  "language_info": {
   "codemirror_mode": {
    "name": "ipython",
    "version": 3
   },
   "file_extension": ".py",
   "mimetype": "text/x-python",
   "name": "python",
   "nbconvert_exporter": "python",
   "pygments_lexer": "ipython3",
   "version": "3.6.1"
  }
 },
 "nbformat": 4,
 "nbformat_minor": 2
}

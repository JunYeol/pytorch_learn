{
 "cells": [
  {
   "cell_type": "markdown",
   "metadata": {},
   "source": [
    "## 1. 초기 설정"
   ]
  },
  {
   "cell_type": "code",
   "execution_count": 1,
   "metadata": {
    "collapsed": true
   },
   "outputs": [],
   "source": [
    "import torch\n",
    "from torch.autograd import Variable\n",
    "import torchvision.datasets as dsets\n",
    "import torchvision.transforms as transforms\n",
    "import random\n",
    "import torch.nn.init\n",
    "\n",
    "torch.manual_seed(777)\n",
    "\n",
    "training_epochs = 15\n",
    "batch_size = 100\n",
    "keep_prob = 0.7"
   ]
  },
  {
   "cell_type": "markdown",
   "metadata": {},
   "source": [
    "## 2. training set과 Variable 만들기"
   ]
  },
  {
   "cell_type": "code",
   "execution_count": 4,
   "metadata": {
    "collapsed": true
   },
   "outputs": [],
   "source": [
    "mnist_train = dsets.MNIST(root='MNIST_data/',\n",
    "                          train=True,\n",
    "                          transform=transforms.ToTensor(),\n",
    "                          download=True)\n",
    "mnist_test = dsets.MNIST(root='MNIST_data/',\n",
    "                         train=False,\n",
    "                         transform=transforms.ToTensor(),\n",
    "                         download=True)\n",
    "data_loader = torch.utils.data.DataLoader(dataset=mnist_train,\n",
    "                                          batch_size=batch_size,\n",
    "                                          shuffle=True)"
   ]
  },
  {
   "cell_type": "markdown",
   "metadata": {},
   "source": [
    "## 3. model 만들기"
   ]
  },
  {
   "cell_type": "code",
   "execution_count": 5,
   "metadata": {
    "collapsed": true
   },
   "outputs": [],
   "source": [
    "linear1 = torch.nn.Linear(784, 512, bias=True)\n",
    "linear2 = torch.nn.Linear(512, 512, bias=True)\n",
    "linear3 = torch.nn.Linear(512, 512, bias=True)\n",
    "linear4 = torch.nn.Linear(512, 512, bias=True)\n",
    "linear5 = torch.nn.Linear(512, 10, bias=True)\n",
    "relu = torch.nn.ReLU()\n",
    "\n",
    "# dropout메서드의 p는 layer 사이 사이의 연결을 끊어버리는 확률을 말한다.\n",
    "dropout = torch.nn.Dropout(p=1-keep_prob)\n",
    "\n",
    "torch.nn.init.xavier_uniform(linear1.weight)\n",
    "torch.nn.init.xavier_uniform(linear2.weight)\n",
    "torch.nn.init.xavier_uniform(linear3.weight)\n",
    "torch.nn.init.xavier_uniform(linear4.weight)\n",
    "torch.nn.init.xavier_uniform(linear5.weight)\n",
    "\n",
    "# activation function 다음에 dropout을 넣어야 한다.\n",
    "model = torch.nn.Sequential(linear1, relu, dropout,\n",
    "                            linear2, relu, dropout,\n",
    "                            linear3, relu, dropout,\n",
    "                            linear4, relu, dropout,\n",
    "                            linear5)"
   ]
  },
  {
   "cell_type": "markdown",
   "metadata": {},
   "source": [
    "## 4. cost function과 optimizer 만들기"
   ]
  },
  {
   "cell_type": "code",
   "execution_count": 6,
   "metadata": {
    "collapsed": true
   },
   "outputs": [],
   "source": [
    "cost_func = torch.nn.CrossEntropyLoss()\n",
    "optimizer = torch.optim.Adam(model.parameters(), lr=0.001)"
   ]
  },
  {
   "cell_type": "markdown",
   "metadata": {},
   "source": [
    "## 5. model 훈련시키기"
   ]
  },
  {
   "cell_type": "code",
   "execution_count": 8,
   "metadata": {},
   "outputs": [
    {
     "name": "stdout",
     "output_type": "stream",
     "text": [
      "[Epoch:    1] cost = 0.308780164\n",
      "[Epoch:    2] cost = 0.145706803\n",
      "[Epoch:    3] cost = 0.112665333\n",
      "[Epoch:    4] cost = 0.0920754746\n",
      "[Epoch:    5] cost = 0.0855652764\n",
      "[Epoch:    6] cost = 0.0740884691\n",
      "[Epoch:    7] cost = 0.0631967261\n",
      "[Epoch:    8] cost = 0.0621559173\n",
      "[Epoch:    9] cost = 0.0583355762\n",
      "[Epoch:   10] cost = 0.0541223735\n",
      "[Epoch:   11] cost = 0.0532222018\n",
      "[Epoch:   12] cost = 0.0481303334\n",
      "[Epoch:   13] cost = 0.0508971773\n",
      "[Epoch:   14] cost = 0.0456200764\n",
      "[Epoch:   15] cost = 0.0437856503\n",
      "Learning Finished!\n"
     ]
    }
   ],
   "source": [
    "for epoch in range(training_epochs):\n",
    "    avg_cost = 0\n",
    "    total_batch = len(mnist_train) // batch_size\n",
    "\n",
    "    for i, (batch_xs, batch_ys) in enumerate(data_loader):\n",
    "        X = Variable(batch_xs.view(-1, 28 * 28))\n",
    "        Y = Variable(batch_ys) \n",
    "\n",
    "        optimizer.zero_grad()\n",
    "        Y_hat = model(X)\n",
    "        cost = cost_func(Y_hat, Y)\n",
    "        cost.backward()\n",
    "        optimizer.step()\n",
    "\n",
    "        avg_cost += cost / total_batch\n",
    "\n",
    "    print(\"[Epoch: {:>4}] cost = {:>.9}\".format(epoch + 1, avg_cost.data[0]))\n",
    "\n",
    "print('Learning Finished!')"
   ]
  },
  {
   "cell_type": "markdown",
   "metadata": {},
   "source": [
    "## 6. model 확인하기"
   ]
  },
  {
   "cell_type": "code",
   "execution_count": 9,
   "metadata": {},
   "outputs": [
    {
     "name": "stdout",
     "output_type": "stream",
     "text": [
      "Accuracy: 0.9787\n",
      "Label:  \n",
      " 6\n",
      "[torch.LongTensor of size 1]\n",
      "\n",
      "Prediction:  \n",
      " 6\n",
      "[torch.LongTensor of size 1]\n",
      "\n"
     ]
    }
   ],
   "source": [
    "# dropout으로 훈련을 시킨 후에 model의 모든 연결이 필요로 하다면 eval이라는 메서드를 사용해야 한다.\n",
    "model.eval()\n",
    "\n",
    "X_test = Variable(mnist_test.test_data.view(-1, 28 * 28).float())\n",
    "Y_test = Variable(mnist_test.test_labels)\n",
    "\n",
    "prediction = model(X_test)\n",
    "correct_prediction = (torch.max(prediction.data, 1)[1] == Y_test.data)\n",
    "accuracy = correct_prediction.float().mean()\n",
    "print('Accuracy:', accuracy)\n",
    "\n",
    "# Get one and predict\n",
    "r = random.randint(0, len(mnist_test) - 1)\n",
    "X_single_data = Variable(mnist_test.test_data[r:r + 1].view(-1, 28 * 28).float())\n",
    "Y_single_data = Variable(mnist_test.test_labels[r:r + 1])\n",
    "\n",
    "print(\"Label: \", Y_single_data.data)\n",
    "single_prediction = model(X_single_data)\n",
    "print(\"Prediction: \", torch.max(single_prediction.data, 1)[1])"
   ]
  }
 ],
 "metadata": {
  "kernelspec": {
   "display_name": "Python 3",
   "language": "python",
   "name": "python3"
  },
  "language_info": {
   "codemirror_mode": {
    "name": "ipython",
    "version": 3
   },
   "file_extension": ".py",
   "mimetype": "text/x-python",
   "name": "python",
   "nbconvert_exporter": "python",
   "pygments_lexer": "ipython3",
   "version": "3.6.1"
  }
 },
 "nbformat": 4,
 "nbformat_minor": 2
}

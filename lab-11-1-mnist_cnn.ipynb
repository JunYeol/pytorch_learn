{
 "cells": [
  {
   "cell_type": "markdown",
   "metadata": {},
   "source": [
    "## 1. 초기 설정"
   ]
  },
  {
   "cell_type": "code",
   "execution_count": 1,
   "metadata": {
    "collapsed": true
   },
   "outputs": [],
   "source": [
    "import torch\n",
    "from torch.autograd import Variable\n",
    "import torchvision.datasets as dsets\n",
    "import torchvision.transforms as transforms\n",
    "import torch.nn.init\n",
    "\n",
    "torch.manual_seed(777)\n",
    "\n",
    "learning_rate = 0.001\n",
    "training_epochs = 15\n",
    "batch_size = 100"
   ]
  },
  {
   "cell_type": "markdown",
   "metadata": {},
   "source": [
    "## 2. training set과 Variable 만들기"
   ]
  },
  {
   "cell_type": "code",
   "execution_count": 2,
   "metadata": {
    "collapsed": true
   },
   "outputs": [],
   "source": [
    "mnist_train = dsets.MNIST(root='MNIST_data/',\n",
    "                          train=True,\n",
    "                          transform=transforms.ToTensor(),\n",
    "                          download=True)\n",
    "mnist_test = dsets.MNIST(root='MNIST_data/',\n",
    "                         train=False,\n",
    "                         transform=transforms.ToTensor(),\n",
    "                         download=True)\n",
    "data_loader = torch.utils.data.DataLoader(dataset=mnist_train,\n",
    "                                          batch_size=batch_size,\n",
    "                                          shuffle=True)"
   ]
  },
  {
   "cell_type": "markdown",
   "metadata": {},
   "source": [
    "## 3. model 만들기"
   ]
  },
  {
   "cell_type": "code",
   "execution_count": 7,
   "metadata": {
    "collapsed": true
   },
   "outputs": [],
   "source": [
    "class CNN(torch.nn.Module):\n",
    "    def __init__(self):\n",
    "        # super 메서드는 반드시 첫 번째 parameter가 현 클래스이어야 한다.\n",
    "        super(CNN, self).__init__()\n",
    "        self.layer1 = torch.nn.Sequential(\n",
    "            # torch.nn.Conv2d의 첫 번째 parameter는 색상채널을 이루는 수의 개수이고\n",
    "            # 두 번째 parameter는 출력될 채널의 수를 의미한다. activation map의 개수와 같은 개념.  \n",
    "            # kernel은 filter의 다른 명칭이다.\n",
    "            # 나머지는 아는 거니 설명을 생략한다.\n",
    "            torch.nn.Conv2d(1, 32, kernel_size=3, stride=1, padding=1),\n",
    "            torch.nn.ReLU(),\n",
    "            torch.nn.MaxPool2d(kernel_size=2, stride=2))\n",
    "        self.layer2 = torch.nn.Sequential(\n",
    "            torch.nn.Conv2d(32, 64, kernel_size=3, stride=1, padding=1),\n",
    "            torch.nn.ReLU(),\n",
    "            torch.nn.MaxPool2d(kernel_size=2, stride=2))\n",
    "        self.fc = torch.nn.Linear(7 * 7 * 64, 10, bias=True)\n",
    "        torch.nn.init.xavier_uniform(self.fc.weight)\n",
    "    \n",
    "    def forward(self, x):\n",
    "        out = self.layer1(x)\n",
    "        out = self.layer2(out)\n",
    "        # 아래와 같이 하면 (?, 7, 7, 64) 크기의 행렬이 (?, 7 * 7 * 64) 크기의 행렬로 바뀐다.\n",
    "        out = out.view(out.size(0), -1)\n",
    "        out = self.fc(out)\n",
    "        return out\n",
    "\n",
    "model = CNN()"
   ]
  },
  {
   "cell_type": "markdown",
   "metadata": {},
   "source": [
    "## 4. cost function과 optimizer 만들기"
   ]
  },
  {
   "cell_type": "code",
   "execution_count": 8,
   "metadata": {},
   "outputs": [],
   "source": [
    "cost_func = torch.nn.CrossEntropyLoss()\n",
    "optimizer = torch.optim.Adam(model.parameters(), lr=learning_rate)"
   ]
  },
  {
   "cell_type": "markdown",
   "metadata": {},
   "source": [
    "## 5. model 훈련시키기"
   ]
  },
  {
   "cell_type": "code",
   "execution_count": 9,
   "metadata": {},
   "outputs": [
    {
     "name": "stdout",
     "output_type": "stream",
     "text": [
      "Learning started. It takes sometimes.\n",
      "[Epoch:    1] cost = 0.00222329795\n",
      "[Epoch:    2] cost = 0.000620203791\n",
      "[Epoch:    3] cost = 0.00045753154\n",
      "[Epoch:    4] cost = 0.000357311917\n",
      "[Epoch:    5] cost = 0.000306011178\n",
      "[Epoch:    6] cost = 0.000239420129\n",
      "[Epoch:    7] cost = 0.00021286105\n",
      "[Epoch:    8] cost = 0.000177525188\n",
      "[Epoch:    9] cost = 0.000157953429\n",
      "[Epoch:   10] cost = 0.000130264118\n",
      "[Epoch:   11] cost = 0.000115634648\n",
      "[Epoch:   12] cost = 9.05892157e-05\n",
      "[Epoch:   13] cost = 8.13669831e-05\n",
      "[Epoch:   14] cost = 8.11025966e-05\n",
      "[Epoch:   15] cost = 7.25419231e-05\n",
      "Learning Finished!\n"
     ]
    }
   ],
   "source": [
    "print('Learning started. It takes sometimes.')\n",
    "for epoch in range(training_epochs):\n",
    "    avg_cost = 0\n",
    "    total_batch = len(mnist_train)\n",
    "    \n",
    "    for i, (batch_xs, batch_ys) in enumerate(data_loader):\n",
    "        X = Variable(batch_xs)\n",
    "        Y = Variable(batch_ys)\n",
    "        \n",
    "        optimizer.zero_grad()\n",
    "        \n",
    "        Y_hat = model(X)\n",
    "        cost = cost_func(Y_hat, Y)\n",
    "        cost.backward()\n",
    "        optimizer.step()\n",
    "        \n",
    "        avg_cost += cost.data / total_batch\n",
    "        \n",
    "    print(\"[Epoch: {:>4}] cost = {:>.9}\".format(epoch + 1, avg_cost[0]))\n",
    "\n",
    "print('Learning Finished!')"
   ]
  },
  {
   "cell_type": "markdown",
   "metadata": {},
   "source": [
    "## 6. model 확인하기"
   ]
  },
  {
   "cell_type": "code",
   "execution_count": 10,
   "metadata": {},
   "outputs": [
    {
     "name": "stdout",
     "output_type": "stream",
     "text": [
      "Accuracy: 0.9834\n"
     ]
    }
   ],
   "source": [
    "model.eval()\n",
    "\n",
    "X_test = Variable(mnist_test.test_data.view(len(mnist_test), 1, 28, 28).float())\n",
    "Y_test = Variable(mnist_test.test_labels)\n",
    "\n",
    "prediction = model(X_test)\n",
    "correct_prediction = (torch.max(prediction.data, 1)[1] == Y_test.data)\n",
    "accuracy = correct_prediction.float().mean()\n",
    "print('Accuracy:', accuracy)"
   ]
  }
 ],
 "metadata": {
  "kernelspec": {
   "display_name": "Python 3",
   "language": "python",
   "name": "python3"
  },
  "language_info": {
   "codemirror_mode": {
    "name": "ipython",
    "version": 3
   },
   "file_extension": ".py",
   "mimetype": "text/x-python",
   "name": "python",
   "nbconvert_exporter": "python",
   "pygments_lexer": "ipython3",
   "version": "3.6.1"
  }
 },
 "nbformat": 4,
 "nbformat_minor": 2
}
